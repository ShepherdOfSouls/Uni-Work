{
 "cells": [
  {
   "cell_type": "code",
   "execution_count": 7,
   "metadata": {},
   "outputs": [],
   "source": [
    "import math\n",
    "import sys\n",
    "import os\n",
    "import cv2\n",
    "import numpy as np\n",
    "import random\n",
    "from matplotlib import pyplot as plt\n",
    "from IPython.display import clear_output\n",
    "%matplotlib inline"
   ]
  },
  {
   "cell_type": "code",
   "execution_count": 13,
   "metadata": {},
   "outputs": [],
   "source": [
    "def sssd(frame, next_frame, grid1, grid2):\n",
    "    cur_blk_r = frame[grid1[0]-2:grid1[0]+3, grid1[1]-2:grid1[1]+3, 0]\n",
    "    cur_blk_g = frame[grid1[0]-2:grid1[0]+3, grid1[1]-2:grid1[1]+3, 1]\n",
    "    cur_blk_b = frame[grid1[0]-2:grid1[0]+3, grid1[1]-2:grid1[1]+3, 2]\n",
    "    \n",
    "    tar_blk_r = next_frame[grid2[0]-2:grid2[0]+3, grid2[1]-2:grid2[1]+3, 0]\n",
    "    tar_blk_g = next_frame[grid2[0]-2:grid2[0]+3, grid2[1]-2:grid2[1]+3, 1]\n",
    "    tar_blk_b = next_frame[grid2[0]-2:grid2[0]+3, grid2[1]-2:grid2[1]+3, 2]\n",
    "\n",
    "    diff_r = np.subtract(cur_blk_r, tar_blk_r)\n",
    "    diff_g = np.subtract(cur_blk_g, tar_blk_g)\n",
    "    diff_b = np.subtract(cur_blk_b, tar_blk_b)\n",
    "    \n",
    "    sqr_r = np.square(diff_r)\n",
    "    sqr_g = np.square(diff_g)\n",
    "    sqr_b = np.square(diff_b)\n",
    "    \n",
    "    sqr_sum = sqr_r + sqr_g + sqr_b\n",
    "    sqr_sum = np.sum(sqr_sum)\n",
    "    dist = math.sqrt(sqr_sum) \n",
    "    return dist\n",
    "\n",
    "def min_sssd(frame, next_frame, grid):\n",
    "    cur_min = [0, 0, 0]\n",
    "    if sssd(frame, next_frame, grid, grid) <= tmin:\n",
    "        return cur_min\n",
    "    for i in range(-1, 2):\n",
    "        for j in range(-1, 2):\n",
    "            if (i == 0 and j == 0) or grid[0] + i <= 1 or grid[0] + i >= frame_height - 2 or grid[1] + j <= 1 or grid[1] + j >= frame_width - 2:\n",
    "                continue\n",
    "            test_grid = [grid[0] + i, grid[1] + j]\n",
    "            temp = sssd(frame, next_frame, grid, test_grid)\n",
    "            if (temp < cur_min[0] or cur_min[0] == 0):\n",
    "                cur_min = [temp, grid[0] + i, grid[1] + j]\n",
    "    if cur_min[0] < tmin:\n",
    "        return [0, 0, 0]\n",
    "    for i in range(-1, 2):\n",
    "        for j in range(-1, 2):\n",
    "            if (i == 0 and j == 0) or ((cur_min[1] - grid[0]) + (cur_min[2] - grid[1])) < 2 or cur_min[1] + i <= 1 or cur_min[1] + i >= frame_height - 2 or cur_min[2] + j <= 1 or cur_min[2] + j >= frame_width - 2:\n",
    "                continue\n",
    "            test_grid = [cur_min[1] + i, cur_min[2] + j]\n",
    "            temp = sssd(frame, next_frame, grid, test_grid)\n",
    "            if (temp < cur_min[0] or cur_min[0] == 0):\n",
    "                cur_min = [temp, grid[0] + i, grid[1] + j]\n",
    "    return cur_min\n",
    "                "
   ]
  },
  {
   "cell_type": "code",
   "execution_count": 9,
   "metadata": {},
   "outputs": [],
   "source": [
    "def arrowdraw(img, x1, y1, x2, y2):\n",
    "    radians = math.atan2(x1-x2, y2-y1)\n",
    "    x11 = 0\n",
    "    y11 = 0\n",
    "    x12 = -10\n",
    "    y12 = -10\n",
    "\n",
    "    u11 = 0\n",
    "    v11 = 0\n",
    "    u12 = 10\n",
    "    v12 = -10\n",
    "    \n",
    "    x11_ = x11*math.cos(radians) - y11*math.sin(radians) + x2\n",
    "    y11_ = x11*math.sin(radians) + y11*math.cos(radians) + y2\n",
    "\n",
    "    x12_ = x12 * math.cos(radians) - y12 * math.sin(radians) + x2\n",
    "    y12_ = x12 * math.sin(radians) + y12 * math.cos(radians) + y2\n",
    "    \n",
    "    u11_ = u11 * math.cos(radians) - v11 * math.sin(radians) + x2\n",
    "    v11_ = u11 * math.sin(radians) + v11 * math.cos(radians) + y2\n",
    "\n",
    "    u12_ = u12 * math.cos(radians) - v12 * math.sin(radians) + x2\n",
    "    v12_ = u12 * math.sin(radians) + v12 * math.cos(radians) + y2\n",
    "    img = cv2.line(img, (x1, y1), (x2, y2), (255, 255, 255), 1)\n",
    "    img = cv2.line(img, (int(x11_), int(y11_)), (int(x12_), int(y12_)), \n",
    "    (255, 255, 255), 1)\n",
    "    img = cv2.line(img, (int(u11_), int(v11_)), (int(u12_), int(v12_)), \n",
    "    (255, 255, 255), 1)\n",
    "    \n",
    "    return img"
   ]
  },
  {
   "cell_type": "code",
   "execution_count": 10,
   "metadata": {},
   "outputs": [
    {
     "name": "stdout",
     "output_type": "stream",
     "text": [
      "Extracting: 751\n"
     ]
    }
   ],
   "source": [
    "if not os.path.isdir(os.path.join(os.getcwd(), 'frames')):\n",
    "    os.mkdir(\"frames\")\n",
    "else:\n",
    "    print('frames already exists')\n",
    "\n",
    "if not os.path.isdir(os.path.join(os.getcwd(), 'motion')):\n",
    "    os.mkdir(\"motion\")\n",
    "else:\n",
    "    print('motion already exists')\n",
    "    \n",
    "framenumber = 0\n",
    "framectr = 0\n",
    "omovie = cv2.VideoCapture('original.avi')\n",
    "frame_height = omovie.get(cv2.CAP_PROP_FRAME_HEIGHT)\n",
    "frame_width  = omovie.get(cv2.CAP_PROP_FRAME_WIDTH)\n",
    "\n",
    "while(1):\n",
    "    ret, frame = omovie.read()\n",
    "    if not ret:\n",
    "        break\n",
    "    print('Extracting: %d' % framenumber)\n",
    "    clear_output(wait=True)\n",
    "    cv2.imwrite('frames/%d.tif' % framenumber, frame)\n",
    "    framenumber += 1\n",
    "omovie.release()"
   ]
  },
  {
   "cell_type": "code",
   "execution_count": 14,
   "metadata": {},
   "outputs": [
    {
     "name": "stdout",
     "output_type": "stream",
     "text": [
      "Processing frame: 750, overall progress: 99.87 %\n"
     ]
    }
   ],
   "source": [
    "framectr = framenumber - 1\n",
    "process_frame = 0\n",
    "tmin = 55\n",
    "tmax = 65\n",
    "grid_row = int(frame_height/5)\n",
    "grid_column = int(frame_width/5)\n",
    "grid = np.zeros([grid_row, grid_column, 2], dtype = int)\n",
    "for i in range(grid_row):\n",
    "    for j in range(grid_column):\n",
    "        grid[i][j] = [5*i+2, 5*j+2]\n",
    "while process_frame < framectr:\n",
    "\n",
    "    frame = cv2.imread('frames/%d.tif' % process_frame)\n",
    "    next_frame = cv2.imread('frames/%d.tif' % (process_frame + 1))\n",
    "    print('Processing frame: %d, overall progress: %.2f %%' % (process_frame, process_frame/framectr*100))\n",
    "    clear_output(wait=True)\n",
    "\n",
    "    \n",
    "    for i in range(grid_row):\n",
    "        for j in range(grid_column):\n",
    "            matched_grid = min_sssd(frame, next_frame, grid[i][j])\n",
    "            \n",
    "            if matched_grid[0] != 0 and matched_grid[0] >= tmin and matched_grid[0] <=tmax:\n",
    "                frame = arrowdraw(frame, grid[i][j][1], grid[i][j][0], int(matched_grid[2]), int(matched_grid[1]))\n",
    "        \n",
    "    \n",
    "    cv2.imwrite('motion/motion%d.tif' % process_frame, frame)\n",
    "    if cv2.waitKey(30) & 0xff == ord('q'):\n",
    "        break\n",
    "    process_frame += 1"
   ]
  },
  {
   "cell_type": "code",
   "execution_count": 15,
   "metadata": {},
   "outputs": [
    {
     "name": "stdout",
     "output_type": "stream",
     "text": [
      "Saving video: 99%\n",
      "No more frames to be loaded\n"
     ]
    }
   ],
   "source": [
    "count = 0\n",
    "out = cv2.VideoWriter('./motion_estimation.avi', cv2.VideoWriter_fourcc('M', 'J', 'P', 'G'), 10, (int(frame_width), int(frame_height)))\n",
    "while(1):\n",
    "    img = cv2.imread('motion/motion%d.tif' % count)\n",
    "    if img is None:\n",
    "        print('No more frames to be loaded')\n",
    "        break\n",
    "    clear_output(wait=True)\n",
    "    out.write(img)\n",
    "    count += 1\n",
    "    print('Saving video: %d%%' % int(100*count/framenumber))\n",
    "    \n",
    "out.release()\n",
    "cv2.destroyAllWindows()"
   ]
  },
  {
   "cell_type": "code",
   "execution_count": null,
   "metadata": {},
   "outputs": [],
   "source": []
  }
 ],
 "metadata": {
  "kernelspec": {
   "display_name": "Python 3",
   "language": "python",
   "name": "python3"
  },
  "language_info": {
   "codemirror_mode": {
    "name": "ipython",
    "version": 3
   },
   "file_extension": ".py",
   "mimetype": "text/x-python",
   "name": "python",
   "nbconvert_exporter": "python",
   "pygments_lexer": "ipython3",
   "version": "3.8.3"
  }
 },
 "nbformat": 4,
 "nbformat_minor": 4
}
